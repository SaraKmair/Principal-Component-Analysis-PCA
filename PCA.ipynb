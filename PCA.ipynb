{
  "nbformat": 4,
  "nbformat_minor": 0,
  "metadata": {
    "colab": {
      "name": "PCA.ipynb",
      "provenance": [],
      "collapsed_sections": [],
      "authorship_tag": "ABX9TyOcvCeK/a1shKs6AOpQEIMv",
      "include_colab_link": true
    },
    "kernelspec": {
      "name": "python3",
      "display_name": "Python 3"
    },
    "language_info": {
      "name": "python"
    }
  },
  "cells": [
    {
      "cell_type": "markdown",
      "metadata": {
        "id": "view-in-github",
        "colab_type": "text"
      },
      "source": [
        "<a href=\"https://colab.research.google.com/github/SaraKmair/Principal-Component-Analysis-PCA/blob/main/PCA.ipynb\" target=\"_parent\"><img src=\"https://colab.research.google.com/assets/colab-badge.svg\" alt=\"Open In Colab\"/></a>"
      ]
    },
    {
      "cell_type": "code",
      "execution_count": 5,
      "metadata": {
        "id": "zWw-Tyb_PKYJ"
      },
      "outputs": [],
      "source": [
        "import pandas as pd \n",
        "import numpy as np \n",
        "import sklearn.preprocessing \n",
        "from sklearn.preprocessing  import StandardScaler\n",
        "import sklearn.decomposition \n",
        "from sklearn.decomposition import PCA \n",
        "import matplotlib.pyplot as plt \n",
        "import seaborn as sns \n",
        "sns.set()"
      ]
    },
    {
      "cell_type": "code",
      "source": [
        "#read dataframe \n",
        "df = pd.read_csv('')"
      ],
      "metadata": {
        "id": "cqCdJi4cQs2S"
      },
      "execution_count": 1,
      "outputs": []
    },
    {
      "cell_type": "code",
      "source": [
        "#scale the df \n",
        "scaler = StandardScaler()\n",
        "#fit and transform dataframe on the scaler \n",
        "df_scaled = scaler.fit_transform(df)"
      ],
      "metadata": {
        "id": "cxQe2qZhRW1t"
      },
      "execution_count": null,
      "outputs": []
    },
    {
      "cell_type": "code",
      "source": [
        "#apply pca on scaled dataframe \n",
        "#this will give # of components = # of attributes\n",
        "pca = PCA()\n",
        "pca.fit_transform(df_scaled)"
      ],
      "metadata": {
        "id": "VZDzque5Rnks"
      },
      "execution_count": null,
      "outputs": []
    },
    {
      "cell_type": "code",
      "source": [
        "#check the variance ratio of each component \n",
        "#cumulative sum 80% and higher is the cutoff point \n",
        "pca.explained_variance_ratio_"
      ],
      "metadata": {
        "id": "8Fl2EfGpR5hG"
      },
      "execution_count": null,
      "outputs": []
    },
    {
      "cell_type": "code",
      "source": [
        "#plot the variance \n",
        "plt.figure(figsize=(10,6))\n",
        "components = ['component1', 'component2', '....etc']\n",
        "var_exp = pca.explained_variance_ratio_\n",
        "plt.bar(components, var_exp)\n",
        "plt.title()\n",
        "plt.xlable()\n",
        "plt.ylabel()\n",
        "plt.show()\n"
      ],
      "metadata": {
        "id": "iZdneZjqSzOr"
      },
      "execution_count": null,
      "outputs": []
    },
    {
      "cell_type": "code",
      "source": [
        "plt.figure(figsize=(10,6))\n",
        "plt.plot(range(1,9), pca.explained_variance_ratio_.cumsum(), marker = 'o') #range is the number of components based on how many columns in the dataframe \n",
        "plt.title()\n",
        "plt.xlable()\n",
        "plt.ylabel()\n",
        "plt.show()"
      ],
      "metadata": {
        "id": "F5qSYGgiSYu6"
      },
      "execution_count": null,
      "outputs": []
    },
    {
      "cell_type": "code",
      "source": [
        "#after checking the # of components that best fit the data \n",
        "#80% variance or higher \n",
        "pca = PCA(n_components= 'best num')\n",
        "pca.fit(df_scaled)\n",
        "df_pca = pd.Dataframe(data = pca.components_,\n",
        "                      columns = df.columns.values,\n",
        "                      index = ['comp1', 'comp2', '...etc'])\n",
        "df_pca"
      ],
      "metadata": {
        "id": "tKV2sknITSiy"
      },
      "execution_count": null,
      "outputs": []
    },
    {
      "cell_type": "code",
      "source": [
        "#plot heatmap to give the correlation between each variable and the components \n",
        "sns.heatmap(df_pca,\n",
        "            vmin = -1, vmax = 1,\n",
        "            cmap = 'RdBu',\n",
        "            annot = True)\n",
        "plt.yticks([0,1,2, ], #list length is based on the # of components \n",
        "           ['comp1', 'comp2', '...etc'],\n",
        "            rotation = 45,\n",
        "           fontsize = \n",
        "           )\n",
        "\n",
        "plt.show()"
      ],
      "metadata": {
        "id": "xhqMq2sjT628"
      },
      "execution_count": null,
      "outputs": []
    },
    {
      "cell_type": "code",
      "source": [
        ""
      ],
      "metadata": {
        "id": "GWX6TkZ-Uh6e"
      },
      "execution_count": null,
      "outputs": []
    }
  ]
}